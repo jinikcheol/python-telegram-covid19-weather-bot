import time
from telegram import ChatAction
from telegram import InlineKeyboardButton, InlineKeyboardMarkup
from telegram.ext import Updater, Filters
from telegram.ext import CommandHandler, MessageHandler, CallbackQueryHandler

import sys
import os
import pandas as pd
import numpy as np

from bs4 import BeautifulSoup
from selenium import webdriver
from selenium.webdriver.chrome.options import Options
import time
import tqdm
from tqdm.notebook import tqdm

dict = {}
dict1 = {}
# Step 1. 크롬 웹브라우저 실행
path = "chromedriver.exe"  # 윈도우는 "chromedriver.exe"

chrome_options = Options()
chrome_options.add_argument( '--headless' )
chrome_options.add_argument( '--log-level=3' )
chrome_options.add_argument( '--disable-logging' )
chrome_options.add_argument( '--no-sandbox' )
chrome_options.add_argument( '--disable-gpu' )

driver = webdriver.Chrome(path)
# 사이트 주소는 코로나바이러스감염증-19(COVID-19)
driver.get('http://ncov.mohw.go.kr/')
time.sleep(2)

path1 = "chromedriver.exe"  # 윈도우는 "chromedriver.exe"
driver1 = webdriver.Chrome(path1)
# 사이트 주소는 노르웨이 날씨
driver1.get('https://www.yr.no/place/South_Korea/Busan/Busan/')
time.sleep(2)

# 일일확진자
# one_day_COVID_19 = driver.find_element_by_class_name("tit")
# one_day_COVID_19_text = one_day_COVID_19.text


BOT_TOKEN = 'your telegram token'

updater = Updater(token=BOT_TOKEN, use_context=True)
dispatcher = updater.dispatcher





def cmd_task_buttons(update, context):
    task_buttons = [[
        InlineKeyboardButton('1.일일확진자', callback_data=1)
        , InlineKeyboardButton('2.지역별', callback_data=2)
    ], [
        InlineKeyboardButton('3.오늘 날씨', callback_data=3)
        , InlineKeyboardButton('4.내일 날씨', callback_data=4)
    ], [
        InlineKeyboardButton('5.취소', callback_data=5)
    ]]

    reply_markup = InlineKeyboardMarkup(task_buttons)

    context.bot.send_message(
        chat_id=update.message.chat_id
        , text='코로나 현황/날씨'
        , reply_markup=reply_markup
    )


def cb_button(update, context):
    query = update.callback_query
    data = query.data

    context.bot.send_chat_action(
        chat_id=update.effective_user.id
        , action=ChatAction.TYPING
    )

    if data == '5':
        context.bot.edit_message_text(
            text='종료하겠습니다.'
            , chat_id=query.message.chat_id
            , message_id=query.message.message_id
        )
    

    if data == '1':
        # for i in range(0, 2):
            # 코로나 확진자 정보
        COVID_19_text = driver.find_elements_by_css_selector("span.subtit")
        COVID_19_data = driver.find_elements_by_css_selector("span.data")
            # 코로나 발생자 domestic incidence / 해외유입 overseas inflow
            # COVID_19_text_inout = COVID_19_text[i].text
            # COVID_19_data_inout = COVID_19_data[i].text
        COVID_19_data_sum = COVID_19_text[0].text + ' ' + COVID_19_data[0].text + ' ' + COVID_19_text[1].text + ' ' + COVID_19_data[1].text
        context.bot.send_message(
            chat_id=update.effective_chat.id
            , text="=====일일확진자=====\n{}".format(COVID_19_data_sum)
        )
            
    if data == '2':
        city_data_list = ''
        for j in range(0, 18):
            city_data = driver.find_element_by_xpath("""//*[@id="main_maplayout"]/button[{}]""".format(j + 1))
            city_data_text = city_data.text
            city_data_list = city_data_list+city_data_text+'\n'
        context.bot.send_message(
            chat_id=update.effective_chat.id
            , text="===지역별===\n{}".format(city_data_list)
        )
                
    if data == '3':
        weather_today_list = ''
        for i in range(1,5):
            if len('driver1.find_element_by_xpath("""//*[@id="ctl00_ctl00_contentBody"]/div[2]/div[2]/table[1]/tbody/tr/td[1]""")') > 0:
                # 시간
                Today_time1 = driver1.find_element_by_xpath("""//*[@id="ctl00_ctl00_contentBody"]/div[2]/div[2]/table[1]/tbody/tr/td[1]""")
                Today_time1_text = Today_time1.text
                # 날씨
                Today_w1 = driver1.find_element_by_xpath("""//*[@id="ctl00_ctl00_contentBody"]/div[2]/div[2]/table[1]/tbody/tr/td[2]""")
                Today_w1_text = Today_w1.text
                # 온도
                Today_tem1 = driver1.find_element_by_css_selector("table:nth-child(1) > tbody > tr > td:nth-child(3)")
                Today_tem1_text = Today_tem1.text
                # 강수량
                Today_p1 = driver1.find_element_by_css_selector("table:nth-child(1) > tbody > tr > td:nth-child(4)")
                Today_p1_text = Today_p1.text
                weather_today_list = Today_time1_text+" "+Today_w1_text+" "+Today_tem1_text+" "+Today_p1_text
                break
            
            # 시간
            Today_time = driver1.find_element_by_xpath("""//*[@id="ctl00_ctl00_contentBody"]/div[2]/div[2]/table[1]/tbody/tr[{0}]/td[1]""".format(i))
            Today_time_text = Today_time.text

            # 날씨
            Today_w = driver1.find_element_by_xpath("""//*[@id="ctl00_ctl00_contentBody"]/div[2]/div[2]/table[1]/tbody/tr[{0}]/td[2]""".format(i))
            Today_w_text = Today_w.text

            # 온도
            Today_tem = driver1.find_element_by_css_selector("table:nth-child(1) > tbody > tr:nth-child({0}) > td:nth-child(3)".format(i))
            Today_tem_text = Today_tem.text

            # 강수량
            Today_p = driver1.find_element_by_css_selector("table:nth-child(1) > tbody > tr:nth-child({0}) > td:nth-child(4)".format(i))
            Today_p_text = Today_p.text
        
            Today_total = Today_time_text+" "+Today_w_text+" "+Today_tem_text+" "+Today_p_text
            weather_today_list=weather_today_list+Today_total+'\n'
        context.bot.send_message(
            chat_id=update.effective_chat.id
            , text="========오늘 날씨=======\n{}".format(weather_today_list)
               
        )
        
    if data == '4':
        weather_tomo_list = ''
        for i in range(1,5):
            # 시간
            Today_time = driver1.find_element_by_xpath("""//*[@id="ctl00_ctl00_contentBody"]/div[2]/div[2]/table[2]/tbody/tr[{0}]/td[1]""".format(i))
            Today_time_text = Today_time.text

            # 날씨
            Today_w = driver1.find_element_by_xpath("""//*[@id="ctl00_ctl00_contentBody"]/div[2]/div[2]/table[2]/tbody/tr[{0}]/td[2]""".format(i))
            Today_w_text = Today_w.text

            # 온도
            Today_tem = driver1.find_element_by_css_selector("table:nth-child(2) > tbody > tr:nth-child({0}) > td:nth-child(3)".format(i))
            Today_tem_text = Today_tem.text

            # 강수량
            Today_p = driver1.find_element_by_css_selector("table:nth-child(2) > tbody > tr:nth-child({0}) > td:nth-child(4)".format(i))
            Today_p_text = Today_p.text
        
            Today_total = Today_time_text+" "+Today_w_text+" "+Today_tem_text+" "+Today_p_text
            weather_tomo_list = weather_tomo_list+Today_total+'\n'
        context.bot.send_message(
            chat_id=update.effective_chat.id
            , text="========내일 날씨========\n{}".format(weather_tomo_list)
        )


task_buttons_handler = CommandHandler('tasks', cmd_task_buttons)
button_callback_handler = CallbackQueryHandler(cb_button)

dispatcher.add_handler(task_buttons_handler)
dispatcher.add_handler(button_callback_handler)

updater.start_polling()
updater.idle()
